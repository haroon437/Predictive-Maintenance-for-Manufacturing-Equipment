{
 "cells": [
  {
   "cell_type": "code",
   "execution_count": null,
   "id": "54cb5ff6-15aa-4562-be43-5ffc8e2de55c",
   "metadata": {},
   "outputs": [],
   "source": [
    "# Installing dependencies\n",
    "!pip install pandas matplotlib seaborn numpy"
   ]
  },
  {
   "cell_type": "code",
   "execution_count": 2,
   "id": "733af499-b345-400f-a837-163456878528",
   "metadata": {},
   "outputs": [],
   "source": [
    "#Importing Libraries \n",
    "import pandas as pd \n",
    "import matplotlib.pyplot as plt \n",
    "import seaborn as sns \n",
    "import numpy as np"
   ]
  },
  {
   "cell_type": "code",
   "execution_count": 4,
   "id": "eeefc79c-9add-4e49-b8ca-00fae2b83f9e",
   "metadata": {},
   "outputs": [],
   "source": [
    "#reading csv files for data-cleaning\n",
    "df_sales = pd.read_csv('Sales Transactions.csv')\n",
    "df_customers = pd.read_csv('Customer Information.csv') \n",
    "df_region = pd.read_csv('Region Metadata.csv')"
   ]
  },
  {
   "cell_type": "code",
   "execution_count": null,
   "id": "aeed9a6d-7492-40ca-8977-d669212c04fe",
   "metadata": {},
   "outputs": [],
   "source": [
    "# Filling missing values using median\n",
    "df_sales['ContractLength'].fillna(df_sales['ContractLength'].median(), inplace=True)"
   ]
  },
  {
   "cell_type": "code",
   "execution_count": 28,
   "id": "765aeb80-65ea-412b-ae09-b4a10d16a724",
   "metadata": {},
   "outputs": [],
   "source": [
    "# Using IQR MethodDetect outliers in revenue \n",
    "def detect_outlier(series):\n",
    "    Q1 = series.quantile(0.25)\n",
    "    Q3 = series.quantile(0.75)\n",
    "    IQR = Q3-Q1\n",
    "    lower = Q1-1.5*IQR\n",
    "    higher = Q3+1.5*IQR \n",
    "    return series[(series<lower)|(series>higher)] \n",
    "    "
   ]
  },
  {
   "cell_type": "code",
   "execution_count": 31,
   "id": "5015f6b6-ea39-4106-b45a-e26afd11b593",
   "metadata": {},
   "outputs": [],
   "source": [
    "#Declaring outliers to  a variable\n",
    "revenue_outliers = detect_outlier(df_sales['Revenue'] )\n"
   ]
  },
  {
   "cell_type": "code",
   "execution_count": 32,
   "id": "8126f116-24b4-4328-b46a-f2c7cd7e3626",
   "metadata": {},
   "outputs": [
    {
     "name": "stdout",
     "output_type": "stream",
     "text": [
      "{'Revenue_Outlier_Count': 493}\n"
     ]
    }
   ],
   "source": [
    "#Printing Outliers\n",
    "print({\"Revenue_Outlier_Count\": len(revenue_outliers)})\n"
   ]
  },
  {
   "cell_type": "code",
   "execution_count": 33,
   "id": "db4d4435-4d3d-45c7-bfef-1a7c49bf884b",
   "metadata": {},
   "outputs": [],
   "source": [
    "# remove outliers in revenue by indeces \n",
    "def detect_outlier_indices(series):\n",
    "    Q1 = series.quantile(0.25)\n",
    "    Q3 = series.quantile(0.75)\n",
    "    IQR = Q3-Q1\n",
    "    lower = Q1-1.5*IQR\n",
    "    higher = Q3+1.5*IQR \n",
    "    return series[(series<lower)|(series>higher)].index "
   ]
  },
  {
   "cell_type": "code",
   "execution_count": 34,
   "id": "532e04bb-7e8e-4bcc-bf01-9fd317a04df2",
   "metadata": {},
   "outputs": [],
   "source": [
    "#Assigning removed outliers to a variable\n",
    "revenue_outliers_indecies = detect_outlier_indices(df_sales['Revenue'])"
   ]
  },
  {
   "cell_type": "code",
   "execution_count": 35,
   "id": "d1d76286-5535-4e0d-8aa4-0963cb4684f3",
   "metadata": {},
   "outputs": [],
   "source": [
    "#Dropping Outliers from the dataset\n",
    "df_clean_sales = df_sales.drop(revenue_outliers_indecies)"
   ]
  },
  {
   "cell_type": "code",
   "execution_count": 40,
   "id": "d82293a6-2957-4393-865a-3379903149eb",
   "metadata": {},
   "outputs": [],
   "source": [
    "# After filling missing values and removing outliers updating old dataset to cleaned dataset\n",
    "df_clean_sales.to_csv('cleaned_sales_transaction.csv', index=False)"
   ]
  },
  {
   "cell_type": "code",
   "execution_count": 45,
   "id": "27588b4a-c5eb-49e8-a96e-cc1f16b6ca28",
   "metadata": {},
   "outputs": [],
   "source": [
    "# Filling missing values using mode\n",
    "df_customers['Industry'].fillna(df_customers['Industry'].mode()[0],inplace=True)"
   ]
  },
  {
   "cell_type": "code",
   "execution_count": 50,
   "id": "2d304ddd-7703-4890-b123-5448c7055a97",
   "metadata": {},
   "outputs": [],
   "source": [
    "# Standardize Size entries to 'Large' 'Medium' or 'Small'\n",
    "df_customers['CompanySize'] = df_customers['CompanySize'].str.strip().str.lower() \n",
    "df_customers['CompanySize'] = df_customers['CompanySize'].replace(\n",
    "    {\n",
    "        'L':'Large','large':'Large', 'l' : 'Large', 'LARGE': 'Large', \n",
    "        'M': 'Medium', 'm': 'Medium' , 'medium': 'Medium', 'MEDIUM': 'Medium', \n",
    "        's': 'Small' , 'S': 'Small', 'small': 'Small', 'SMALL': 'Small'\n",
    "    }\n",
    ")"
   ]
  },
  {
   "cell_type": "code",
   "execution_count": 51,
   "id": "1c6227e1-7e9d-49a3-8a8f-ed02a1a911f9",
   "metadata": {},
   "outputs": [
    {
     "data": {
      "text/html": [
       "<div>\n",
       "<style scoped>\n",
       "    .dataframe tbody tr th:only-of-type {\n",
       "        vertical-align: middle;\n",
       "    }\n",
       "\n",
       "    .dataframe tbody tr th {\n",
       "        vertical-align: top;\n",
       "    }\n",
       "\n",
       "    .dataframe thead th {\n",
       "        text-align: right;\n",
       "    }\n",
       "</style>\n",
       "<table border=\"1\" class=\"dataframe\">\n",
       "  <thead>\n",
       "    <tr style=\"text-align: right;\">\n",
       "      <th></th>\n",
       "      <th>CustomerID</th>\n",
       "      <th>Industry</th>\n",
       "      <th>CompanySize</th>\n",
       "      <th>ChurnStatus</th>\n",
       "    </tr>\n",
       "  </thead>\n",
       "  <tbody>\n",
       "    <tr>\n",
       "      <th>0</th>\n",
       "      <td>CUST66250</td>\n",
       "      <td>Healthcare</td>\n",
       "      <td>Medium</td>\n",
       "      <td>N</td>\n",
       "    </tr>\n",
       "    <tr>\n",
       "      <th>1</th>\n",
       "      <td>CUST89177</td>\n",
       "      <td>Finance</td>\n",
       "      <td>Medium</td>\n",
       "      <td>N</td>\n",
       "    </tr>\n",
       "    <tr>\n",
       "      <th>2</th>\n",
       "      <td>CUST47479</td>\n",
       "      <td>Retail</td>\n",
       "      <td>Medium</td>\n",
       "      <td>N</td>\n",
       "    </tr>\n",
       "    <tr>\n",
       "      <th>3</th>\n",
       "      <td>CUST42619</td>\n",
       "      <td>Retail</td>\n",
       "      <td>Large</td>\n",
       "      <td>N</td>\n",
       "    </tr>\n",
       "    <tr>\n",
       "      <th>4</th>\n",
       "      <td>CUST14638</td>\n",
       "      <td>Finance</td>\n",
       "      <td>Small</td>\n",
       "      <td>N</td>\n",
       "    </tr>\n",
       "  </tbody>\n",
       "</table>\n",
       "</div>"
      ],
      "text/plain": [
       "  CustomerID    Industry CompanySize ChurnStatus\n",
       "0  CUST66250  Healthcare      Medium           N\n",
       "1  CUST89177     Finance      Medium           N\n",
       "2  CUST47479      Retail      Medium           N\n",
       "3  CUST42619      Retail       Large           N\n",
       "4  CUST14638     Finance       Small           N"
      ]
     },
     "execution_count": 51,
     "metadata": {},
     "output_type": "execute_result"
    }
   ],
   "source": [
    "# Checking Values changes from 'L':'Large','large':'Large', 'l' : 'Large', 'LARGE': 'Large', to only Large vice versa\n",
    "df_customers.head()"
   ]
  },
  {
   "cell_type": "code",
   "execution_count": null,
   "id": "a3815e87-be1b-4053-9543-a11340a540ca",
   "metadata": {},
   "outputs": [],
   "source": [
    "# Updating old dataset to cleaned dataset\n",
    "df_customers.to_csv('cleaned_customer_data.csv', index=False)"
   ]
  },
  {
   "cell_type": "code",
   "execution_count": 56,
   "id": "55b1fe17-c590-4384-a943-40e336e253fc",
   "metadata": {},
   "outputs": [],
   "source": [
    "# Updating old dataset to cleaned dataset\n",
    "df_cleaned_sales = pd.read_csv('cleaned_sales_transaction.csv')"
   ]
  },
  {
   "cell_type": "code",
   "execution_count": 59,
   "id": "baf04ca8-6dce-465a-8472-93209b9aea21",
   "metadata": {},
   "outputs": [],
   "source": [
    "# Changing datatype of Date from object to datetime\n",
    "df_cleaned_sales['Date'] = pd.to_datetime(df_cleaned_sales['Date'], errors='coerce')"
   ]
  },
  {
   "cell_type": "code",
   "execution_count": 5,
   "id": "32088724-1a85-4134-a5be-9807373ab570",
   "metadata": {},
   "outputs": [],
   "source": [
    "# Reading the cleaning dataset for further analysis\n",
    "df_cleaned_transaction = pd.read_csv('cleaned_sales_transaction.csv')\n",
    "df_cleaned_customer = pd.read_csv('cleaned_customer_data.csv')\n",
    "df_cleaned_region = pd.read_csv('Region Metadata.csv')"
   ]
  },
  {
   "cell_type": "code",
   "execution_count": 9,
   "id": "3a7e1767-b49a-41b2-8472-e6abc91115e3",
   "metadata": {},
   "outputs": [],
   "source": [
    "# importing sqlite3 and making connection for database\n",
    "import sqlite3, csv \n",
    "con = sqlite3.connect('Sales.db')\n",
    "curr = con.cursor()"
   ]
  },
  {
   "cell_type": "code",
   "execution_count": null,
   "id": "6fa9dd33-9a7d-4629-90c5-495932f5108c",
   "metadata": {},
   "outputs": [],
   "source": [
    "# Install pretty table library for to show tables when executing sql query\n",
    "!pip install ipython-sql pretty\n",
    "import prettytable\n",
    "prettytable.DEFAULT = 'DEFAULT'"
   ]
  },
  {
   "cell_type": "code",
   "execution_count": 11,
   "id": "0c78fa49-7931-4f71-8ee0-408b5eed4892",
   "metadata": {},
   "outputs": [],
   "source": [
    "#  loading the database\n",
    "%load_ext sql"
   ]
  },
  {
   "cell_type": "code",
   "execution_count": 12,
   "id": "07691859-545b-48f9-9717-42abc85d4ece",
   "metadata": {},
   "outputs": [],
   "source": [
    "# Creating Connection to Database\n",
    "%sql sqlite:///Sales.db"
   ]
  },
  {
   "cell_type": "code",
   "execution_count": 13,
   "id": "0313f574-be4e-414f-84ce-e432b6680027",
   "metadata": {},
   "outputs": [
    {
     "data": {
      "text/plain": [
       "19507"
      ]
     },
     "execution_count": 13,
     "metadata": {},
     "output_type": "execute_result"
    }
   ],
   "source": [
    "# Reading cleaned csv to sql and assigning name for table like Sales_Data\n",
    "df_cleaned_transaction.to_sql('Sales_Data',con,if_exists='replace',index=False)"
   ]
  },
  {
   "cell_type": "code",
   "execution_count": 14,
   "id": "a12b3444-27e3-4cad-abc4-855c5ea2aae0",
   "metadata": {},
   "outputs": [
    {
     "data": {
      "text/plain": [
       "5000"
      ]
     },
     "execution_count": 14,
     "metadata": {},
     "output_type": "execute_result"
    }
   ],
   "source": [
    "# Reading cleaned csv to sql and assigning name for table like Customer_Data\n",
    "df_cleaned_customer.to_sql('Customer_Data',con,if_exists='replace',index=False)"
   ]
  },
  {
   "cell_type": "code",
   "execution_count": 15,
   "id": "1c59af5b-4301-4ab1-aaab-2e7810b78dc6",
   "metadata": {},
   "outputs": [
    {
     "data": {
      "text/plain": [
       "10"
      ]
     },
     "execution_count": 15,
     "metadata": {},
     "output_type": "execute_result"
    }
   ],
   "source": [
    "# Reading cleaned csv to sql and assigning name for table like region_data\n",
    "df_cleaned_region.to_sql('Region_Data',con,if_exists='replace',index=False)"
   ]
  },
  {
   "cell_type": "code",
   "execution_count": null,
   "id": "a52aa77f-357c-40b5-b6cf-de34fd04ddf3",
   "metadata": {},
   "outputs": [],
   "source": [
    "# Checking cleaned data is ok\n",
    "df_cleaned_transaction.head()"
   ]
  },
  {
   "cell_type": "code",
   "execution_count": null,
   "id": "455f96ae-3903-49ad-8a38-00ed7b83c003",
   "metadata": {},
   "outputs": [],
   "source": [
    "# Checking cleaned data is ok\n",
    "df_cleaned_customer.head()"
   ]
  },
  {
   "cell_type": "code",
   "execution_count": null,
   "id": "c7855d2d-7e8e-48e4-8448-cc14aa2e5282",
   "metadata": {},
   "outputs": [],
   "source": [
    "# Checking cleaned data is ok\n",
    "df_cleaned_region.head()"
   ]
  },
  {
   "cell_type": "code",
   "execution_count": 25,
   "id": "aab2e8ce-2b17-454b-b3d9-2363e021e6d4",
   "metadata": {},
   "outputs": [
    {
     "name": "stdout",
     "output_type": "stream",
     "text": [
      " * sqlite:///Sales.db\n",
      "Done.\n"
     ]
    }
   ],
   "source": [
    "# executing sql query for sales data by region and assigning to variable\n",
    "sales_by_region = %sql select c.CustomerID,  s.Region,sum(s.Revenue) as Total_Sales_by_Region from Customer_Data c join Sales_Data s on c.CustomerID = s.CustomerID group by Region"
   ]
  },
  {
   "cell_type": "code",
   "execution_count": null,
   "id": "15540fbf-adcc-47ca-8814-6552e8449fab",
   "metadata": {},
   "outputs": [],
   "source": [
    "# Checking the sales data by region\n",
    "sales_by_region"
   ]
  },
  {
   "cell_type": "code",
   "execution_count": null,
   "id": "e3aa17b0-80f9-452b-af46-b1e2c3c6d90d",
   "metadata": {},
   "outputs": [],
   "source": [
    "# Creating Bar-Chart Visualization to see the relation-ship between region and sales\n",
    "\n",
    "import pandas as pd\n",
    "import matplotlib.pyplot as plt \n",
    "import seaborn as sns \n",
    "from matplotlib.ticker import FuncFormatter\n",
    "\n",
    "plt.figure(figsize=(10,6)) \n",
    "ax = sns.barplot(data = sales_by_region.DataFrame(),x = 'Region', y='Total_Sales_by_Region',palette='Set2', edgecolor='black')\n",
    "\n",
    "formatter = FuncFormatter(lambda x, _: f'{int(x):,}')\n",
    "ax.yaxis.set_major_formatter(formatter)\n",
    "\n",
    "for bar in plt.gca().patches:\n",
    "    plt.annotate(format(bar.get_height()), \n",
    "                (bar.get_x()+bar.get_width()/2, bar.get_height()),\n",
    "                 ha= 'center',va= 'bottom'\n",
    "                )\n",
    "\n",
    "plt.xticks(rotation=30)\n",
    "plt.title('Total Sales by Region')\n",
    "plt.tight_layout()\n",
    "plt.show()"
   ]
  },
  {
   "cell_type": "code",
   "execution_count": 45,
   "id": "6a141dde-51f2-44ea-bad7-bb80e7006375",
   "metadata": {},
   "outputs": [
    {
     "name": "stdout",
     "output_type": "stream",
     "text": [
      " * sqlite:///Sales.db\n",
      "Done.\n"
     ]
    }
   ],
   "source": [
    "# Converting Region Data to csv for powerbi dashboard \n",
    "df_sales_by_region = sales_by_region.DataFrame()"
   ]
  },
  {
   "cell_type": "code",
   "execution_count": 44,
   "id": "602f8137-d3fe-46ec-a4ce-d7c457f64f5c",
   "metadata": {},
   "outputs": [],
   "source": [
    "# Converting Region Data to csv for powerbi dashboard \n",
    "df_sales_by_region.to_csv('sales_by_region.csv',index= False)"
   ]
  },
  {
   "cell_type": "code",
   "execution_count": 54,
   "id": "da4da7e9-e6ac-4467-a114-1fd8844bd0ba",
   "metadata": {},
   "outputs": [
    {
     "name": "stdout",
     "output_type": "stream",
     "text": [
      " * sqlite:///Sales.db\n",
      "Done.\n",
      "Returning data to local variable count_of_productTier_by_region\n"
     ]
    }
   ],
   "source": [
    "#sql query for product-tier to see how many product falls in each region\n",
    "%%sql  count_of_productTier_by_region << \n",
    "WITH region_summary AS (\n",
    "    SELECT \n",
    "        s.Region,\n",
    "        SUM(CASE WHEN s.ProductTier = 'Enterprise' THEN 1 ELSE 0 END) as Enterprise,\n",
    "        SUM(CASE WHEN s.ProductTier = 'Pro' THEN 1 ELSE 0 END) as Pro,\n",
    "        SUM(CASE WHEN s.ProductTier = 'Basic' THEN 1 ELSE 0 END) as Basic\n",
    "    FROM Customer_Data c \n",
    "    JOIN Sales_Data s ON c.CustomerID = s.CustomerID \n",
    "    GROUP BY s.Region\n",
    ")\n",
    "SELECT \n",
    "    Region,\n",
    "    Enterprise,\n",
    "    Pro,\n",
    "    Basic\n",
    "FROM region_summary\n",
    "ORDER BY Region;"
   ]
  },
  {
   "cell_type": "code",
   "execution_count": 46,
   "id": "bfa595c6-feed-4fb6-9826-b9988f14a1e8",
   "metadata": {},
   "outputs": [
    {
     "name": "stdout",
     "output_type": "stream",
     "text": [
      " * sqlite:///Sales.db\n",
      "Done.\n"
     ]
    }
   ],
   "source": [
    "# just testing the query to see how i create logic for product-tier to see how many product falls in each region\n",
    "test = %sql select s.Region from Customer_Data c join Sales_Data s on c.CustomerID = s.CustomerID group by s.Region"
   ]
  },
  {
   "cell_type": "code",
   "execution_count": null,
   "id": "a3157f56-56c2-47a5-bf31-de3eac8002fd",
   "metadata": {},
   "outputs": [],
   "source": [
    "# just testing the query to see how i create logic for product-tier to see how many product falls in each region\n",
    "test"
   ]
  },
  {
   "cell_type": "code",
   "execution_count": 48,
   "id": "67e10933-6624-47b2-ba6f-ea519e621002",
   "metadata": {},
   "outputs": [
    {
     "name": "stdout",
     "output_type": "stream",
     "text": [
      " * sqlite:///Sales.db\n",
      "Done.\n"
     ]
    }
   ],
   "source": [
    "# just testing the query to see how i create logic for product-tier to see how many product falls in each region\n",
    "test = %sql select count(s.ProductTier) from  Customer_Data c join Sales_Data s on c.CustomerID = s.CustomerID where s.ProductTier = 'Enterprise' group by s.Region"
   ]
  },
  {
   "cell_type": "code",
   "execution_count": null,
   "id": "ed7b61e5-b9c6-45f2-8816-1ed05a2bc7a1",
   "metadata": {},
   "outputs": [],
   "source": [
    "# just testing the query to see how i create logic for product-tier to see how many product falls in each region\n",
    "test"
   ]
  },
  {
   "cell_type": "code",
   "execution_count": 56,
   "id": "6c29c41a-1dd7-4667-883c-cb45bad6a871",
   "metadata": {},
   "outputs": [],
   "source": [
    "# Converting product-tier summary to csv for powerbi dashboard \n",
    "Region_Summary = count_of_productTier_by_region.DataFrame()"
   ]
  },
  {
   "cell_type": "code",
   "execution_count": null,
   "id": "88f3b50a-94d6-4347-805b-efa82bc19fed",
   "metadata": {},
   "outputs": [],
   "source": [
    "# Checking Everthing works fine for product-tier to see how many product falls in each region\n",
    "Region_Summary"
   ]
  },
  {
   "cell_type": "code",
   "execution_count": 84,
   "id": "e689786d-96c5-4913-9019-7be4072f1177",
   "metadata": {},
   "outputs": [
    {
     "name": "stdout",
     "output_type": "stream",
     "text": [
      " * sqlite:///Sales.db\n",
      "Done.\n",
      "Returning data to local variable Monthly_avg_revenue\n"
     ]
    }
   ],
   "source": [
    "# Checking Avg-revenue by region over-time to see the trend\n",
    "%%sql Monthly_avg_revenue << \n",
    "SELECT \n",
    "    s.Region,\n",
    "    strftime('%Y', s.Date) as Year,\n",
    "    strftime('%m', s.Date) as Month,\n",
    "    round(AVG(s.Revenue),2) as Avg_Revenue,\n",
    "    COUNT(*) as Transaction_Count,\n",
    "    SUM(s.Revenue) as Total_Revenue\n",
    "FROM Customer_Data c \n",
    "JOIN Sales_Data s ON c.CustomerID = s.CustomerID \n",
    "GROUP BY s.Region, strftime('%Y', s.Date), strftime('%m', s.Date)\n",
    "ORDER BY s.Region, Year, Month;"
   ]
  },
  {
   "cell_type": "code",
   "execution_count": 86,
   "id": "55596181-cf27-43ec-9070-f058c4133c0d",
   "metadata": {},
   "outputs": [],
   "source": [
    "# Converting Avg-revenue data to DataFrame to csv for powerbi dashboard \n",
    "df_monthly_revenue = Monthly_avg_revenue.DataFrame()"
   ]
  },
  {
   "cell_type": "code",
   "execution_count": 87,
   "id": "26dbbca9-dbbd-4285-8f69-5c6333362792",
   "metadata": {},
   "outputs": [],
   "source": [
    "# Converting Avg_Revenue data to csv for powerbi dashboard \n",
    "df_monthly_revenue.to_csv('avg_revenue_by_region.csv', index = False)"
   ]
  },
  {
   "cell_type": "code",
   "execution_count": null,
   "id": "dcd64eea-d242-4376-82a3-793d3b319009",
   "metadata": {},
   "outputs": [],
   "source": [
    "# Checking the data is working fine\n",
    "df_monthly_revenue"
   ]
  },
  {
   "cell_type": "code",
   "execution_count": 31,
   "id": "4eb72eaf-052f-403c-8575-63ce31e30e7d",
   "metadata": {},
   "outputs": [
    {
     "name": "stdout",
     "output_type": "stream",
     "text": [
      " * sqlite:///Sales.db\n",
      "Done.\n",
      "Returning data to local variable Churn_Status\n"
     ]
    }
   ],
   "source": [
    "# Checking the Churn_status rate by region like how many customers are there in this how many are churned and active than their percentage\n",
    "%%sql Churn_Status << \n",
    "SELECT \n",
    "    s.Region,\n",
    "    COUNT(*) as total_customers,\n",
    "    SUM(CASE WHEN c.ChurnStatus = 'Y' THEN 1 ELSE 0 END) as churned_customers,\n",
    "    SUM(CASE WHEN c.ChurnStatus = 'N' THEN 1 ELSE 0 END) as active_customers,\n",
    "    ROUND(\n",
    "        (SUM(CASE WHEN c.ChurnStatus = 'Y' THEN 1 ELSE 0 END) * 100.0) / COUNT(*), \n",
    "        2\n",
    "    ) as churn_rate_percentage\n",
    "FROM \n",
    "    sales_data s\n",
    "INNER JOIN \n",
    "    customer_data c ON s.CustomerID = c.CustomerID\n",
    "GROUP BY \n",
    "    s.Region\n",
    "ORDER BY \n",
    "    churn_rate_percentage DESC;"
   ]
  },
  {
   "cell_type": "code",
   "execution_count": null,
   "id": "fd71f439-55f9-4fe6-899b-07002c79f494",
   "metadata": {},
   "outputs": [],
   "source": [
    "# Checking the data is working fine\n",
    "Churn_Status"
   ]
  },
  {
   "cell_type": "code",
   "execution_count": 25,
   "id": "67946f37-e58c-4b02-abc0-abf80fa2589b",
   "metadata": {},
   "outputs": [],
   "source": [
    "# Converting Churn_Status variable to DataFrame so i can convert into csv for visualiztion in power-bi\n",
    "df_Churn_Status = Churn_Status.DataFrame()"
   ]
  },
  {
   "cell_type": "code",
   "execution_count": 29,
   "id": "33e44541-165c-4d5f-b104-ae7d994874f3",
   "metadata": {},
   "outputs": [],
   "source": [
    "# Converting Churn_Status data to csv for powerbi dashboard \n",
    "df_Churn_Status.to_csv('Churn_Status.csv', index=False)"
   ]
  }
 ],
 "metadata": {
  "kernelspec": {
   "display_name": "Python 3 (ipykernel)",
   "language": "python",
   "name": "python3"
  },
  "language_info": {
   "codemirror_mode": {
    "name": "ipython",
    "version": 3
   },
   "file_extension": ".py",
   "mimetype": "text/x-python",
   "name": "python",
   "nbconvert_exporter": "python",
   "pygments_lexer": "ipython3",
   "version": "3.12.8"
  }
 },
 "nbformat": 4,
 "nbformat_minor": 5
}
